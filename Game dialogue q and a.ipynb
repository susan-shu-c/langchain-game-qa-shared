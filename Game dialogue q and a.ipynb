{
 "cells": [
  {
   "cell_type": "markdown",
   "id": "156d4cf1",
   "metadata": {},
   "source": [
    "## Langchain demo\n",
    "\n",
    "* Pulls in local corpus\n",
    "* Answers questions based on corpus"
   ]
  },
  {
   "cell_type": "markdown",
   "id": "82f04471",
   "metadata": {},
   "source": [
    "## Quickstart notes\n",
    "On PC:\n",
    "```\n",
    "$wsl -d ubuntu\n",
    "$ env OPENAI_API_KEY='[API_KEY_HERE]' jupyter notebook\n",
    "```"
   ]
  },
  {
   "cell_type": "code",
   "execution_count": null,
   "id": "e0227f79",
   "metadata": {},
   "outputs": [],
   "source": [
    "from langchain.document_loaders import UnstructuredPDFLoader, OnlinePDFLoader\n",
    "from langchain.text_splitter import RecursiveCharacterTextSplitter"
   ]
  },
  {
   "cell_type": "markdown",
   "id": "5166d759",
   "metadata": {},
   "source": [
    "### Load your data"
   ]
  },
  {
   "cell_type": "code",
   "execution_count": 2,
   "id": "b4a2d6bf",
   "metadata": {},
   "outputs": [],
   "source": [
    "loader = UnstructuredPDFLoader(\"../data/field-guide-to-data-science.pdf\")\n",
    "# loader = OnlinePDFLoader(\"https://wolfpaulus.com/wp-content/uploads/2017/05/field-guide-to-data-science.pdf\")"
   ]
  },
  {
   "cell_type": "code",
   "execution_count": 3,
   "id": "bcdac23c",
   "metadata": {},
   "outputs": [],
   "source": [
    "data = loader.load()"
   ]
  },
  {
   "cell_type": "markdown",
   "id": "8af9b604",
   "metadata": {},
   "source": [
    "### Chunk data into smaller documents"
   ]
  },
  {
   "cell_type": "code",
   "execution_count": 5,
   "id": "fb3c6f02",
   "metadata": {},
   "outputs": [],
   "source": [
    "text_splitter = RecursiveCharacterTextSplitter(chunk_size=1000, chunk_overlap=0)\n",
    "texts = text_splitter.split_documents(data)"
   ]
  },
  {
   "cell_type": "markdown",
   "id": "838b2843",
   "metadata": {},
   "source": [
    "### Create embeddings of documents for semantic search"
   ]
  },
  {
   "cell_type": "code",
   "execution_count": 1,
   "id": "373e695a",
   "metadata": {},
   "outputs": [],
   "source": [
    "from langchain.vectorstores import Chroma, Pinecone\n",
    "from langchain.embeddings.openai import OpenAIEmbeddings\n",
    "#import pinecone\n",
    "import os"
   ]
  },
  {
   "cell_type": "code",
   "execution_count": 2,
   "id": "33a1df09",
   "metadata": {},
   "outputs": [],
   "source": [
    "from langchain.document_loaders import DirectoryLoader\n",
    "from langchain.text_splitter import CharacterTextSplitter\n",
    "\n",
    "# pip install unstructured\n",
    "# pip install openai\n"
   ]
  },
  {
   "cell_type": "code",
   "execution_count": 3,
   "id": "0e093ef3",
   "metadata": {
    "hide_input": false
   },
   "outputs": [],
   "source": [
    "OPENAI_API_KEY = os.environ['OPENAI_API_KEY']"
   ]
  },
  {
   "cell_type": "code",
   "execution_count": 4,
   "id": "9ed780c0",
   "metadata": {},
   "outputs": [],
   "source": [
    "loader = DirectoryLoader('./', glob='data/*.txt')\n",
    "docs = loader.load()"
   ]
  },
  {
   "cell_type": "code",
   "execution_count": null,
   "id": "a68886fd",
   "metadata": {},
   "outputs": [],
   "source": [
    "docs\n"
   ]
  },
  {
   "cell_type": "code",
   "execution_count": 11,
   "id": "fc6a3a70",
   "metadata": {},
   "outputs": [
    {
     "name": "stdout",
     "output_type": "stream",
     "text": [
      "/mnt/e/2_github/game-langchain\r\n"
     ]
    }
   ],
   "source": [
    "!pwd"
   ]
  },
  {
   "cell_type": "code",
   "execution_count": 5,
   "id": "c288828d",
   "metadata": {},
   "outputs": [],
   "source": [
    "char_text_splitter = CharacterTextSplitter(chunk_size=1000, chunk_overlap=0)\n",
    "doc_texts = char_text_splitter.split_documents(docs)"
   ]
  },
  {
   "cell_type": "code",
   "execution_count": null,
   "id": "f1b392e9",
   "metadata": {},
   "outputs": [],
   "source": [
    "doc_texts"
   ]
  },
  {
   "cell_type": "code",
   "execution_count": 6,
   "id": "fc823566",
   "metadata": {},
   "outputs": [],
   "source": [
    "embeddings = OpenAIEmbeddings(openai_api_key=os.environ['OPENAI_API_KEY'])\n",
    "#vStore = Chroma.from_documents(doc_texts, openAI_embeddings)"
   ]
  },
  {
   "cell_type": "code",
   "execution_count": 7,
   "id": "99091ada",
   "metadata": {},
   "outputs": [
    {
     "name": "stderr",
     "output_type": "stream",
     "text": [
      "Using embedded DuckDB without persistence: data will be transient\n"
     ]
    }
   ],
   "source": [
    "vStore = Chroma.from_documents(doc_texts, embeddings)"
   ]
  },
  {
   "cell_type": "markdown",
   "id": "3c35dcd9",
   "metadata": {},
   "source": [
    "### Query docs"
   ]
  },
  {
   "cell_type": "code",
   "execution_count": 8,
   "id": "f051337b",
   "metadata": {},
   "outputs": [],
   "source": [
    "from langchain.llms import OpenAI\n",
    "from langchain.chains.question_answering import load_qa_chain"
   ]
  },
  {
   "cell_type": "code",
   "execution_count": 9,
   "id": "6b9b1c03",
   "metadata": {},
   "outputs": [],
   "source": [
    "llm = OpenAI(temperature=0.5, openai_api_key=OPENAI_API_KEY)\n",
    "chain = load_qa_chain(llm, chain_type=\"stuff\")"
   ]
  },
  {
   "cell_type": "markdown",
   "id": "d0d4a776",
   "metadata": {},
   "source": [
    "## Ask (query) any question about A Summer with the Shiba Inu"
   ]
  },
  {
   "cell_type": "code",
   "execution_count": 20,
   "id": "9d0a996c",
   "metadata": {},
   "outputs": [],
   "source": [
    "query = \"are syd and max friends?\""
   ]
  },
  {
   "cell_type": "code",
   "execution_count": 21,
   "id": "50d86698",
   "metadata": {},
   "outputs": [],
   "source": [
    "docs = vStore.similarity_search(query, include_metadata=True, k=10)"
   ]
  },
  {
   "cell_type": "code",
   "execution_count": 22,
   "id": "3dfd2b7d",
   "metadata": {},
   "outputs": [
    {
     "data": {
      "text/plain": [
       "' Yes, Syd and Max are friends. It is clear from their conversation that they care deeply for each other and are willing to support each other in difficult times.'"
      ]
     },
     "execution_count": 22,
     "metadata": {},
     "output_type": "execute_result"
    }
   ],
   "source": [
    "chain.run(input_documents=docs, question=query)"
   ]
  },
  {
   "cell_type": "code",
   "execution_count": null,
   "id": "e1e88505",
   "metadata": {},
   "outputs": [],
   "source": []
  },
  {
   "cell_type": "code",
   "execution_count": null,
   "id": "b576973e",
   "metadata": {},
   "outputs": [],
   "source": []
  },
  {
   "attachments": {},
   "cell_type": "markdown",
   "id": "8950ca30",
   "metadata": {},
   "source": [
    "# Query"
   ]
  },
  {
   "cell_type": "code",
   "execution_count": 140,
   "id": "c2050d91",
   "metadata": {},
   "outputs": [],
   "source": [
    "from langchain import OpenAI, VectorDBQA"
   ]
  },
  {
   "cell_type": "code",
   "execution_count": 172,
   "id": "e76277dc",
   "metadata": {},
   "outputs": [],
   "source": [
    "model = VectorDBQA.from_chain_type(llm=OpenAI(temperature=0.1), chain_type='stuff', vectorstore=vStore)\n"
   ]
  },
  {
   "cell_type": "code",
   "execution_count": 210,
   "id": "08521f44",
   "metadata": {},
   "outputs": [],
   "source": [
    "dby_preamble = \"so is shorthand for Sophie. al is shorthand for Alice. ap is shorthand for Apolline. da is shorthand for Daniella. mc is shorthand for Sidney. [mcName] is also shorthand for Sidney. mc_t is shorthand for Sidney thinking. Daniella, Sophie, Alice, Apolline, Sidney, are all female and use she/her pronouns.\""
   ]
  },
  {
   "cell_type": "code",
   "execution_count": 215,
   "id": "edbd994b",
   "metadata": {},
   "outputs": [],
   "source": [
    "query = dby_preamble + \"Question: \" + \"what is the main lesson of the story?\""
   ]
  },
  {
   "cell_type": "code",
   "execution_count": 216,
   "id": "7a830798",
   "metadata": {},
   "outputs": [
    {
     "data": {
      "text/plain": [
       "' The main lesson of the story is that in order to not let the important things in life pass without a trace, one can accept inner peace and enjoy the moment.'"
      ]
     },
     "execution_count": 216,
     "metadata": {},
     "output_type": "execute_result"
    }
   ],
   "source": [
    "model.run(query)"
   ]
  },
  {
   "cell_type": "code",
   "execution_count": null,
   "id": "02217de0",
   "metadata": {},
   "outputs": [],
   "source": []
  },
  {
   "cell_type": "markdown",
   "id": "9a41f83b",
   "metadata": {},
   "source": [
    "# Webnovel corpus test"
   ]
  },
  {
   "cell_type": "code",
   "execution_count": 133,
   "id": "55fd5acf",
   "metadata": {},
   "outputs": [],
   "source": [
    "loader = DirectoryLoader('./', glob='data-webnovel/*.txt')\n",
    "docs = loader.load()"
   ]
  },
  {
   "cell_type": "code",
   "execution_count": 164,
   "id": "7a8d03bf",
   "metadata": {},
   "outputs": [],
   "source": [
    "loader = DirectoryLoader('./', glob='data-dby/*.txt')\n",
    "docs = loader.load()"
   ]
  },
  {
   "cell_type": "markdown",
   "id": "ff3baf08",
   "metadata": {},
   "source": [
    "## References"
   ]
  },
  {
   "cell_type": "code",
   "execution_count": 2,
   "id": "b4d5e07f",
   "metadata": {},
   "outputs": [],
   "source": [
    "#https://shweta-lodha.medium.com/use-your-locally-stored-files-to-get-response-from-gpt-like-chatgpt-a50ea6a520df"
   ]
  },
  {
   "cell_type": "code",
   "execution_count": 3,
   "id": "249af5e3",
   "metadata": {},
   "outputs": [],
   "source": [
    "# Iris on rainy day"
   ]
  },
  {
   "cell_type": "code",
   "execution_count": null,
   "id": "6509e579",
   "metadata": {},
   "outputs": [],
   "source": []
  }
 ],
 "metadata": {
  "kernelspec": {
   "display_name": "Python 3 (ipykernel)",
   "language": "python",
   "name": "python3"
  },
  "language_info": {
   "codemirror_mode": {
    "name": "ipython",
    "version": 3
   },
   "file_extension": ".py",
   "mimetype": "text/x-python",
   "name": "python",
   "nbconvert_exporter": "python",
   "pygments_lexer": "ipython3",
   "version": "3.10.6"
  }
 },
 "nbformat": 4,
 "nbformat_minor": 5
}
